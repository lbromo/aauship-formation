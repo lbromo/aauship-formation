{
 "metadata": {
  "name": ""
 },
 "nbformat": 3,
 "nbformat_minor": 0,
 "worksheets": [
  {
   "cells": [
    {
     "cell_type": "code",
     "collapsed": false,
     "input": [
      "%pylab inline\n",
      "import math\n",
      "import scipy.io as sio\n",
      "import numpy as np\n",
      "import matplotlib.pyplot as plt\n",
      "\n",
      "runs = 100"
     ],
     "language": "python",
     "metadata": {},
     "outputs": [
      {
       "output_type": "stream",
       "stream": "stdout",
       "text": [
        "Populating the interactive namespace from numpy and matplotlib\n"
       ]
      }
     ],
     "prompt_number": 1
    },
    {
     "cell_type": "code",
     "collapsed": false,
     "input": [
      "matrices = sio.loadmat('../../../../../matlab/3_dof.mat')\n",
      "\n",
      "A = matrices['Ad']\n",
      "B = matrices['Bd']\n",
      "C = matrices['Cd']\n",
      "K = matrices['K']\n",
      "N = matrices['N']"
     ],
     "language": "python",
     "metadata": {},
     "outputs": [],
     "prompt_number": 2
    },
    {
     "cell_type": "code",
     "collapsed": false,
     "input": [
      "x = [ np.matrix('0; 0; 0; 0; 0; 0') ] * runs\n",
      "y = [ np.matrix('0; 0; 0') ] * runs\n",
      "u = [ np.matrix('0; 0; 0') ] * runs\n",
      "e = [ np.matrix('0; 0; 0') ] * runs\n",
      "\n",
      "n = np.matrix('1; 1; 0; 0; 0; 0')"
     ],
     "language": "python",
     "metadata": {},
     "outputs": [],
     "prompt_number": 3
    },
    {
     "cell_type": "code",
     "collapsed": false,
     "input": [
      "x[0] = np.matrix('0; 0; 0; 0; 0; 0')\n",
      "for i in range(runs-1):\n",
      "    psi = x[i][2]\n",
      "    e = np.matrix([ \n",
      "                   [math.cos(psi), -math.sin(psi), 0], \n",
      "                   [math.sin(psi), math.cos(psi), 0], \n",
      "                   [0, 0, 1] ]) * (n[0:3] - (C*x[i])[0:3])\n",
      "    u[i] = (e * 50)-K*x[i]\n",
      "    #print u[i]\n",
      "    x[i+1] = (A*x[i] + B*u[i])"
     ],
     "language": "python",
     "metadata": {},
     "outputs": [],
     "prompt_number": 4
    },
    {
     "cell_type": "code",
     "collapsed": false,
     "input": [
      "N = [float(x[i][0]) for i in range(len(x))]\n",
      "E = [float(x[i][1]) for i in range(len(x))]\n",
      "psi = [float(x[i][2]) for i in range(len(x))]\n",
      "\n",
      "u = [float(x[i][3]) for i in range(len(x))]\n",
      "v = [float(x[i][4]) for i in range(len(x))]\n",
      "r = [float(x[i][5]) for i in range(len(x))]"
     ],
     "language": "python",
     "metadata": {},
     "outputs": [],
     "prompt_number": 5
    },
    {
     "cell_type": "code",
     "collapsed": false,
     "input": [
      "plt.plot(N)\n",
      "plt.plot(E)\n",
      "plt.plot(psi)"
     ],
     "language": "python",
     "metadata": {},
     "outputs": [
      {
       "metadata": {},
       "output_type": "pyout",
       "prompt_number": 6,
       "text": [
        "[<matplotlib.lines.Line2D at 0x7f926983b050>]"
       ]
      },
      {
       "metadata": {},
       "output_type": "display_data",
       "png": "[encoded data removed]",
       "text": [
        "<matplotlib.figure.Figure at 0x7f9269afa410>"
       ]
      }
     ],
     "prompt_number": 6
    },
    {
     "cell_type": "code",
     "collapsed": false,
     "input": [
      "plt.scatter(N,E)"
     ],
     "language": "python",
     "metadata": {},
     "outputs": [
      {
       "metadata": {},
       "output_type": "pyout",
       "prompt_number": 156,
       "text": [
        "<matplotlib.collections.PathCollection at 0x7f13d2f60290>"
       ]
      },
      {
       "metadata": {},
       "output_type": "display_data",
       "png": "[encoded data removed]",
       "text": [
        "<matplotlib.figure.Figure at 0x7f13d30df8d0>"
       ]
      }
     ],
     "prompt_number": 156
    },
    {
     "cell_type": "code",
     "collapsed": false,
     "input": [
      "r - K*x[i]"
     ],
     "language": "python",
     "metadata": {},
     "outputs": [
      {
       "metadata": {},
       "output_type": "pyout",
       "prompt_number": 33,
       "text": [
        "matrix([[  2.18404660e-08],\n",
        "        [  2.39917418e-07],\n",
        "        [  1.50230316e-10]])"
       ]
      }
     ],
     "prompt_number": 33
    },
    {
     "cell_type": "code",
     "collapsed": false,
     "input": [
      "(e * 20)-K*x[50]"
     ],
     "language": "python",
     "metadata": {},
     "outputs": [
      {
       "metadata": {},
       "output_type": "pyout",
       "prompt_number": 150,
       "text": [
        "matrix([[-0.00452491],\n",
        "        [ 0.03639934],\n",
        "        [-0.00486543]])"
       ]
      }
     ],
     "prompt_number": 150
    },
    {
     "cell_type": "code",
     "collapsed": false,
     "input": [],
     "language": "python",
     "metadata": {},
     "outputs": [],
     "prompt_number": 137
    },
    {
     "cell_type": "code",
     "collapsed": false,
     "input": [],
     "language": "python",
     "metadata": {},
     "outputs": []
    }
   ],
   "metadata": {}
  }
 ]
}